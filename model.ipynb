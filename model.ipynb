{
 "cells": [
  {
   "cell_type": "markdown",
   "metadata": {},
   "source": [
    "## Gujarathi news category classification model"
   ]
  },
  {
   "cell_type": "markdown",
   "metadata": {},
   "source": [
    "### Importing libraries"
   ]
  },
  {
   "cell_type": "code",
   "execution_count": 1,
   "metadata": {},
   "outputs": [],
   "source": [
    "import numpy as np\n",
    "import pandas as pd\n",
    "import matplotlib.pyplot as plt\n",
    "import seaborn as sns\n",
    "from nltk.corpus import stopwords\n",
    "from sklearn import preprocessing\n",
    "from sklearn.feature_extraction.text import CountVectorizer\n",
    "from sklearn.model_selection import train_test_split\n",
    "from sklearn.linear_model import LogisticRegression\n",
    "from sklearn.metrics import accuracy_score\n",
    "from sklearn.metrics import confusion_matrix\n",
    "from sklearn.feature_extraction.text import TfidfTransformer\n",
    "%matplotlib inline"
   ]
  },
  {
   "cell_type": "markdown",
   "metadata": {},
   "source": [
    "### Global variables"
   ]
  },
  {
   "cell_type": "code",
   "execution_count": 2,
   "metadata": {},
   "outputs": [],
   "source": [
    "corpus = []\n",
    "\n",
    "# 2100 words will be used\n",
    "cv = CountVectorizer(max_features = 2100) \n",
    "tfidf_transformer = TfidfTransformer()\n",
    "\n",
    "le = preprocessing.LabelEncoder()"
   ]
  },
  {
   "cell_type": "markdown",
   "metadata": {},
   "source": [
    "### Create dataset"
   ]
  },
  {
   "cell_type": "code",
   "execution_count": 3,
   "metadata": {},
   "outputs": [],
   "source": [
    "# Open text files.\n",
    "business_text_file = open('../dataset/BusinessGujrathi.txt', encoding='utf-8')\n",
    "tech_text_file = open('../dataset/TechnologyGujrathi.txt', encoding='utf-8')\n",
    "entertainment_text_file = open('../dataset/EntertainmentGujrathi.txt', encoding='utf-8')\n",
    "\n",
    "# Read text files.\n",
    "business_text = business_text_file.read()\n",
    "tech_text = tech_text_file.read()\n",
    "entertainment_text = entertainment_text_file.read()\n",
    "\n",
    "# Extract sentences.\n",
    "business_sentences = business_text.split('\\n')\n",
    "tech_sentences = tech_text.split('\\n')\n",
    "entertainment_sentences = entertainment_text.split('\\n')\n",
    "\n",
    "# Filter out empty sentences.\n",
    "business_sentences = list(filter(lambda x: x != '', business_sentences))\n",
    "tech_sentences = list(filter(lambda x: x != '', tech_sentences))\n",
    "entertainment_text = list(filter(lambda x: x != '', entertainment_text))\n",
    "\n",
    "# Create new dataframes.\n",
    "business_df = pd.DataFrame({'headline': business_sentences})\n",
    "tech_df = pd.DataFrame({'headline': tech_sentences})\n",
    "entertainment_df = pd.DataFrame({'headline': entertainment_text})\n",
    "\n",
    "# Assign labels to dataframes.\n",
    "business_df['label'] = 'business'\n",
    "tech_df['label'] = 'tech'\n",
    "entertainment_df['label'] = 'entertainment'"
   ]
  },
  {
   "cell_type": "code",
   "execution_count": 4,
   "metadata": {},
   "outputs": [
    {
     "data": {
      "text/html": [
       "<div>\n",
       "<style scoped>\n",
       "    .dataframe tbody tr th:only-of-type {\n",
       "        vertical-align: middle;\n",
       "    }\n",
       "\n",
       "    .dataframe tbody tr th {\n",
       "        vertical-align: top;\n",
       "    }\n",
       "\n",
       "    .dataframe thead th {\n",
       "        text-align: right;\n",
       "    }\n",
       "</style>\n",
       "<table border=\"1\" class=\"dataframe\">\n",
       "  <thead>\n",
       "    <tr style=\"text-align: right;\">\n",
       "      <th></th>\n",
       "      <th>headline</th>\n",
       "      <th>label</th>\n",
       "    </tr>\n",
       "  </thead>\n",
       "  <tbody>\n",
       "    <tr>\n",
       "      <th>0</th>\n",
       "      <td>મોદી સરકાર 1 ફેબ્રુઆરીએ વચગાળાનું બજેટ રજૂ કરશ...</td>\n",
       "      <td>business</td>\n",
       "    </tr>\n",
       "    <tr>\n",
       "      <th>1</th>\n",
       "      <td>LIC પોલિસી ધારકો માટે મોટી ખબર! પ્રીમિયમ જમા ક...</td>\n",
       "      <td>business</td>\n",
       "    </tr>\n",
       "    <tr>\n",
       "      <th>2</th>\n",
       "      <td>VIRAL VIDEO: મસ્તમૌલા અંદાજમાં રણવીર સિંહ, ચાર...</td>\n",
       "      <td>entertainment</td>\n",
       "    </tr>\n",
       "    <tr>\n",
       "      <th>3</th>\n",
       "      <td>શાહરૂખની સાથે ફિલ્મમાં કામ કરી ચુક્યો છે અનુષ્...</td>\n",
       "      <td>entertainment</td>\n",
       "    </tr>\n",
       "    <tr>\n",
       "      <th>4</th>\n",
       "      <td>એકદમ બટરફ્લાઇ અવતારમાં જોવા મળી આ એક્ટ્રેસ</td>\n",
       "      <td>entertainment</td>\n",
       "    </tr>\n",
       "  </tbody>\n",
       "</table>\n",
       "</div>"
      ],
      "text/plain": [
       "                                            headline          label\n",
       "0  મોદી સરકાર 1 ફેબ્રુઆરીએ વચગાળાનું બજેટ રજૂ કરશ...       business\n",
       "1  LIC પોલિસી ધારકો માટે મોટી ખબર! પ્રીમિયમ જમા ક...       business\n",
       "2  VIRAL VIDEO: મસ્તમૌલા અંદાજમાં રણવીર સિંહ, ચાર...  entertainment\n",
       "3  શાહરૂખની સાથે ફિલ્મમાં કામ કરી ચુક્યો છે અનુષ્...  entertainment\n",
       "4         એકદમ બટરફ્લાઇ અવતારમાં જોવા મળી આ એક્ટ્રેસ  entertainment"
      ]
     },
     "execution_count": 4,
     "metadata": {},
     "output_type": "execute_result"
    }
   ],
   "source": [
    "# Read gujrathi dataset.\n",
    "df = pd.read_csv('../dataset/gtrain.csv')\n",
    "\n",
    "# Create a single dataframe of all data.\n",
    "df = df.append([pd.read_csv('../dataset/gvalid.csv'), business_df, entertainment_df, tech_df])\n",
    "\n",
    "# Top 5 rows of data.\n",
    "df.head()"
   ]
  },
  {
   "cell_type": "code",
   "execution_count": 5,
   "metadata": {},
   "outputs": [
    {
     "data": {
      "text/html": [
       "<div>\n",
       "<style scoped>\n",
       "    .dataframe tbody tr th:only-of-type {\n",
       "        vertical-align: middle;\n",
       "    }\n",
       "\n",
       "    .dataframe tbody tr th {\n",
       "        vertical-align: top;\n",
       "    }\n",
       "\n",
       "    .dataframe thead th {\n",
       "        text-align: right;\n",
       "    }\n",
       "</style>\n",
       "<table border=\"1\" class=\"dataframe\">\n",
       "  <thead>\n",
       "    <tr style=\"text-align: right;\">\n",
       "      <th></th>\n",
       "      <th>Headline</th>\n",
       "      <th>Label</th>\n",
       "    </tr>\n",
       "  </thead>\n",
       "  <tbody>\n",
       "    <tr>\n",
       "      <th>0</th>\n",
       "      <td>હવે સ્કૂલમાંથી ગુલ્લી નહીં મારી શકે બાળકો, જાણ...</td>\n",
       "      <td>tech</td>\n",
       "    </tr>\n",
       "    <tr>\n",
       "      <th>1</th>\n",
       "      <td>અડધી કિંમતમાં મળી રહ્યો છે ગૂગલનો આ સ્માર્ટફોન...</td>\n",
       "      <td>tech</td>\n",
       "    </tr>\n",
       "    <tr>\n",
       "      <th>2</th>\n",
       "      <td>Reliance AGM: JioGigaTV, જિયોફોન-2 થયાં લોન્ચ,...</td>\n",
       "      <td>business</td>\n",
       "    </tr>\n",
       "    <tr>\n",
       "      <th>3</th>\n",
       "      <td>ચાર્જર અને સિમ સ્લોટ વગરનો દુનિયાનો પહેલો મોબા...</td>\n",
       "      <td>tech</td>\n",
       "    </tr>\n",
       "    <tr>\n",
       "      <th>4</th>\n",
       "      <td>ભારતમાં 17 મે પર લોન્ચ થશે  OnePlus 6, ખરીદ્યા...</td>\n",
       "      <td>tech</td>\n",
       "    </tr>\n",
       "  </tbody>\n",
       "</table>\n",
       "</div>"
      ],
      "text/plain": [
       "                                            Headline     Label\n",
       "0  હવે સ્કૂલમાંથી ગુલ્લી નહીં મારી શકે બાળકો, જાણ...      tech\n",
       "1  અડધી કિંમતમાં મળી રહ્યો છે ગૂગલનો આ સ્માર્ટફોન...      tech\n",
       "2  Reliance AGM: JioGigaTV, જિયોફોન-2 થયાં લોન્ચ,...  business\n",
       "3  ચાર્જર અને સિમ સ્લોટ વગરનો દુનિયાનો પહેલો મોબા...      tech\n",
       "4  ભારતમાં 17 મે પર લોન્ચ થશે  OnePlus 6, ખરીદ્યા...      tech"
      ]
     },
     "execution_count": 5,
     "metadata": {},
     "output_type": "execute_result"
    }
   ],
   "source": [
    "# Rename columns\n",
    "df.columns = ['Headline', 'Label']\n",
    "\n",
    "# Drop duplicate data and reindex data.\n",
    "df = df.drop_duplicates(subset = 'Headline', keep = 'first')\n",
    "df.reset_index(inplace=True, drop=True)\n",
    "\n",
    "# Shuffling data and reindex data.\n",
    "df = df.sample(frac = 1, random_state = 16)\n",
    "df.reset_index(inplace=True, drop=True) \n",
    "\n",
    "# Top 5 rows of final dataframe.\n",
    "df.head()"
   ]
  },
  {
   "cell_type": "code",
   "execution_count": 6,
   "metadata": {},
   "outputs": [
    {
     "name": "stdout",
     "output_type": "stream",
     "text": [
      "Dataset contains 8041 rows\n"
     ]
    },
    {
     "data": {
      "text/html": [
       "<div>\n",
       "<style scoped>\n",
       "    .dataframe tbody tr th:only-of-type {\n",
       "        vertical-align: middle;\n",
       "    }\n",
       "\n",
       "    .dataframe tbody tr th {\n",
       "        vertical-align: top;\n",
       "    }\n",
       "\n",
       "    .dataframe thead th {\n",
       "        text-align: right;\n",
       "    }\n",
       "</style>\n",
       "<table border=\"1\" class=\"dataframe\">\n",
       "  <thead>\n",
       "    <tr style=\"text-align: right;\">\n",
       "      <th></th>\n",
       "      <th>Headline</th>\n",
       "      <th>Label</th>\n",
       "    </tr>\n",
       "  </thead>\n",
       "  <tbody>\n",
       "    <tr>\n",
       "      <th>0</th>\n",
       "      <td>હોલિવૂડ ફિલ્મ 'ધ નન'ની રેકોર્ડ બ્રેક કમાણી, પહ...</td>\n",
       "      <td>entertainment</td>\n",
       "    </tr>\n",
       "    <tr>\n",
       "      <th>1</th>\n",
       "      <td>મુન્નાભાઇમાંથી અરશદ વારસીનું પત્તુ સાફ, સર્કિટ...</td>\n",
       "      <td>entertainment</td>\n",
       "    </tr>\n",
       "    <tr>\n",
       "      <th>2</th>\n",
       "      <td>એક પણ રૂપિયો ચૂકવ્યા વગર દીપિકાએ ખરીદ્યા લાખોન...</td>\n",
       "      <td>entertainment</td>\n",
       "    </tr>\n",
       "    <tr>\n",
       "      <th>3</th>\n",
       "      <td>વર્ષો બાદ એક સાથે જોવા મળ્યા જેકી શ્રોફ અને મા...</td>\n",
       "      <td>entertainment</td>\n",
       "    </tr>\n",
       "    <tr>\n",
       "      <th>4</th>\n",
       "      <td>ઇન્કમ ટેક્સ ભરવાની અંતિમ તારીખ વધી</td>\n",
       "      <td>business</td>\n",
       "    </tr>\n",
       "  </tbody>\n",
       "</table>\n",
       "</div>"
      ],
      "text/plain": [
       "                                            Headline          Label\n",
       "0  હોલિવૂડ ફિલ્મ 'ધ નન'ની રેકોર્ડ બ્રેક કમાણી, પહ...  entertainment\n",
       "1  મુન્નાભાઇમાંથી અરશદ વારસીનું પત્તુ સાફ, સર્કિટ...  entertainment\n",
       "2  એક પણ રૂપિયો ચૂકવ્યા વગર દીપિકાએ ખરીદ્યા લાખોન...  entertainment\n",
       "3  વર્ષો બાદ એક સાથે જોવા મળ્યા જેકી શ્રોફ અને મા...  entertainment\n",
       "4                 ઇન્કમ ટેક્સ ભરવાની અંતિમ તારીખ વધી       business"
      ]
     },
     "execution_count": 6,
     "metadata": {},
     "output_type": "execute_result"
    }
   ],
   "source": [
    "tech_df = df[df['Label'] == 'tech']\n",
    "tech_df = tech_df.sample(frac = 0.35, random_state = 13)\n",
    "\n",
    "business_df = df[df['Label'] == 'business']\n",
    "business_df = business_df.sample(frac = 0.09, random_state = 13)\n",
    "\n",
    "df = df.append([tech_df, business_df])\n",
    "\n",
    "# Shuffling data and reindex data.\n",
    "df = df.sample(frac = 1, random_state = 16)\n",
    "df.reset_index(inplace=True, drop=True) \n",
    "\n",
    "print(f'Dataset contains {df.shape[0]} rows') \n",
    "df.head()"
   ]
  },
  {
   "cell_type": "markdown",
   "metadata": {},
   "source": [
    "### Data visualisation"
   ]
  },
  {
   "cell_type": "code",
   "execution_count": 7,
   "metadata": {},
   "outputs": [
    {
     "data": {
      "text/plain": [
       "Text(0, 0.5, 'No of observations')"
      ]
     },
     "execution_count": 7,
     "metadata": {},
     "output_type": "execute_result"
    },
    {
     "data": {
      "image/png": "[encoded data removed]",
      "text/plain": [
       "<Figure size 432x288 with 1 Axes>"
      ]
     },
     "metadata": {},
     "output_type": "display_data"
    }
   ],
   "source": [
    "# No. of observation belonging to each labelled class\n",
    "sns.set(style=\"white\")\n",
    "sns.set_context(\"notebook\")\n",
    "depression_class_distribution = sns.countplot(x = \"Label\", data = df)\n",
    "plt.title('Data set distribution')\n",
    "plt.xlabel('Labelled classes')\n",
    "plt.ylabel('No of observations')"
   ]
  },
  {
   "cell_type": "markdown",
   "metadata": {},
   "source": [
    "### Data preprocessing"
   ]
  },
  {
   "cell_type": "code",
   "execution_count": 8,
   "metadata": {},
   "outputs": [],
   "source": [
    "for i in range(0, df.shape[0]):\n",
    "    tweet = str(df.iloc[i, 0])\n",
    "    tweet = tweet.split()\n",
    "    \n",
    "    # Stop-words removal\n",
    "    # Place the stopwords file in nltk_data folder in the system\n",
    "    tweet = [word for word in tweet if not word in set(stopwords.words('gujarathi')) and len(word)>1]\n",
    "    tweet = ' '.join(tweet)\n",
    "    \n",
    "    corpus.append(tweet);"
   ]
  },
  {
   "cell_type": "code",
   "execution_count": 9,
   "metadata": {},
   "outputs": [],
   "source": [
    "# Bag of words\n",
    "X = cv.fit_transform(corpus).toarray()\n",
    "\n",
    "# Tfidf\n",
    "X = tfidf_transformer.fit_transform(X)\n",
    "\n",
    "# Generate appropriate output labels\n",
    "# This is to be done as the output labels are also string\n",
    "y = df.iloc[:, 1].values\n",
    "y = le.fit_transform(y)"
   ]
  },
  {
   "cell_type": "markdown",
   "metadata": {},
   "source": [
    "### Data splitting"
   ]
  },
  {
   "cell_type": "code",
   "execution_count": 10,
   "metadata": {},
   "outputs": [],
   "source": [
    "X_train, X_test, y_train, y_test = train_test_split(X, y, test_size = 0.25, random_state = 0)"
   ]
  },
  {
   "cell_type": "markdown",
   "metadata": {},
   "source": [
    "### Model building"
   ]
  },
  {
   "cell_type": "code",
   "execution_count": 11,
   "metadata": {},
   "outputs": [
    {
     "data": {
      "text/plain": [
       "LogisticRegression(C=1.0, class_weight=None, dual=False, fit_intercept=True,\n",
       "                   intercept_scaling=1, l1_ratio=None, max_iter=1000,\n",
       "                   multi_class='auto', n_jobs=None, penalty='l1',\n",
       "                   random_state=None, solver='saga', tol=0.0001, verbose=0,\n",
       "                   warm_start=False)"
      ]
     },
     "execution_count": 11,
     "metadata": {},
     "output_type": "execute_result"
    }
   ],
   "source": [
    "# L1 Regularized logistic regression, as this reduces changes of overfitting\n",
    "clf =  LogisticRegression(max_iter = 1000, penalty='l1', solver='saga')\n",
    "clf.fit(X_train,y_train)"
   ]
  },
  {
   "cell_type": "markdown",
   "metadata": {},
   "source": [
    "### Training accuracy"
   ]
  },
  {
   "cell_type": "code",
   "execution_count": 12,
   "metadata": {},
   "outputs": [
    {
     "name": "stdout",
     "output_type": "stream",
     "text": [
      "Training accuracy:  85.0\n"
     ]
    }
   ],
   "source": [
    "ytrain_prediction = clf.predict(X_train)\n",
    "print('Training accuracy: ', round(round(accuracy_score(y_train, ytrain_prediction), 6) * 100, 0))"
   ]
  },
  {
   "cell_type": "markdown",
   "metadata": {},
   "source": [
    "### Testing accuracy"
   ]
  },
  {
   "cell_type": "code",
   "execution_count": 13,
   "metadata": {},
   "outputs": [
    {
     "name": "stdout",
     "output_type": "stream",
     "text": [
      "Testing accuracy:  81.0\n"
     ]
    }
   ],
   "source": [
    "ytest_prediction = clf.predict(X_test)\n",
    "print('Testing accuracy: ', round(round(accuracy_score(y_test, ytest_prediction), 6) * 100, 0))"
   ]
  },
  {
   "cell_type": "markdown",
   "metadata": {},
   "source": [
    "### Training set confusion matrix"
   ]
  },
  {
   "cell_type": "code",
   "execution_count": 14,
   "metadata": {},
   "outputs": [
    {
     "data": {
      "text/plain": [
       "array([[1734,  223,  150],\n",
       "       [ 154, 2057,   42],\n",
       "       [ 195,  131, 1344]])"
      ]
     },
     "execution_count": 14,
     "metadata": {},
     "output_type": "execute_result"
    }
   ],
   "source": [
    "confusion_matrix(y_train, ytrain_prediction)"
   ]
  },
  {
   "cell_type": "markdown",
   "metadata": {},
   "source": [
    "### Testing set confusion matrix"
   ]
  },
  {
   "cell_type": "code",
   "execution_count": 15,
   "metadata": {},
   "outputs": [
    {
     "data": {
      "text/plain": [
       "array([[537,  97,  66],\n",
       "       [ 56, 679,  18],\n",
       "       [ 81,  66, 411]])"
      ]
     },
     "execution_count": 15,
     "metadata": {},
     "output_type": "execute_result"
    }
   ],
   "source": [
    "confusion_matrix(y_test, ytest_prediction)"
   ]
  },
  {
   "cell_type": "markdown",
   "metadata": {},
   "source": [
    "### Model objects\n",
    "\n",
    "#### Saving the objects in the picke file so that they can be used by the flask front-end"
   ]
  },
  {
   "cell_type": "code",
   "execution_count": 16,
   "metadata": {},
   "outputs": [],
   "source": [
    "import pickle\n",
    "file_pi = open('../objects/gujarathi-vectorizer.pickle', 'wb')\n",
    "pickle.dump(cv, file_pi)\n",
    "file_pi.close()"
   ]
  },
  {
   "cell_type": "code",
   "execution_count": 17,
   "metadata": {},
   "outputs": [],
   "source": [
    "file_pi = open('../objects/gujarathi-encoder.pickle', 'wb')\n",
    "pickle.dump(le, file_pi)\n",
    "file_pi.close()"
   ]
  },
  {
   "cell_type": "code",
   "execution_count": 18,
   "metadata": {},
   "outputs": [],
   "source": [
    "file_pi = open('../objects/gujarathi-tf-idf.pickle', 'wb')\n",
    "pickle.dump(tfidf_transformer, file_pi)\n",
    "file_pi.close()"
   ]
  },
  {
   "cell_type": "code",
   "execution_count": 19,
   "metadata": {},
   "outputs": [],
   "source": [
    "file_pi = open('../objects/gujurathi-classifier.pickle', 'wb')\n",
    "pickle.dump(clf, file_pi)\n",
    "file_pi.close()"
   ]
  },
  {
   "cell_type": "code",
   "execution_count": null,
   "metadata": {},
   "outputs": [],
   "source": []
  }
 ],
 "metadata": {
  "kernelspec": {
   "display_name": "Python 3.7.7 64-bit ('sakec': conda)",
   "language": "python",
   "name": "python37764bitsakecconda959a0ecf91a74640ad07abd0add49952"
  },
  "language_info": {
   "codemirror_mode": {
    "name": "ipython",
    "version": 3
   },
   "file_extension": ".py",
   "mimetype": "text/x-python",
   "name": "python",
   "nbconvert_exporter": "python",
   "pygments_lexer": "ipython3",
   "version": "3.7.7"
  }
 },
 "nbformat": 4,
 "nbformat_minor": 4
}
